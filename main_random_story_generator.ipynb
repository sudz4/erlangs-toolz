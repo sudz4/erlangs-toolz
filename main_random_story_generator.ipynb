{
 "cells": [
  {
   "attachments": {},
   "cell_type": "markdown",
   "metadata": {},
   "source": [
    "|ServiceNow Random Story Generator| XXX |\n",
    "|-|-|"
   ]
  },
  {
   "cell_type": "code",
   "execution_count": null,
   "metadata": {},
   "outputs": [],
   "source": [
    "import random\n",
    "\n",
    "# pre-defined templates for story descriptions\n",
    "templates = [\n",
    "    \"Implement incident management module for {department}\",\n",
    "    \"Create a custom application for {department} to manage their {process}\",\n",
    "    \"Integrate {external_system} with ServiceNow for {department}\",\n",
    "    \"Automate the {process} process in ServiceNow for {department}\",\n",
    "    \"Improve reporting and dashboards for {department}\",\n",
    "    \"Set up service catalog items for {department}\"\n",
    "]\n",
    "\n",
    "# list of departments\n",
    "departments = [\n",
    "    \"IT\",\n",
    "    \"HR\",\n",
    "    \"Finance\",\n",
    "    \"Operations\",\n",
    "    \"Sales\",\n",
    "    \"Marketing\"\n",
    "]\n",
    "\n",
    "# list of processes\n",
    "processes = [\n",
    "    \"onboarding\",\n",
    "    \"offboarding\",\n",
    "    \"expense approval\",\n",
    "    \"ticket resolution\",\n",
    "    \"change management\",\n",
    "    \"asset management\"\n",
    "]\n",
    "\n",
    "# list of external systems\n",
    "external_systems = [\n",
    "    \"Salesforce\",\n",
    "    \"SAP\",\n",
    "    \"Workday\",\n",
    "    \"Active Directory\",\n",
    "    \"JIRA\",\n",
    "    \"Slack\"\n",
    "]\n",
    "\n",
    "# function to generate a random story\n",
    "def generate_story():\n",
    "    template = random.choice(templates)\n",
    "    department = random.choice(departments)\n",
    "    process = random.choice(processes)\n",
    "    external_system = random.choice(external_systems)\n",
    "\n",
    "    story = template.format(department=department, process=process, external_system=external_system)\n",
    "    return story\n",
    "\n",
    "# generate and print 10 random stories\n",
    "num_stories = 10\n",
    "\n",
    "for i in range(num_stories):\n",
    "    print(f\"Story {i+1}: {generate_story()}\")"
   ]
  },
  {
   "cell_type": "code",
   "execution_count": null,
   "metadata": {},
   "outputs": [],
   "source": []
  }
 ],
 "metadata": {
  "language_info": {
   "name": "python"
  },
  "orig_nbformat": 4
 },
 "nbformat": 4,
 "nbformat_minor": 2
}
