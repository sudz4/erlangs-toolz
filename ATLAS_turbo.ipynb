{
 "cells": [
  {
   "attachments": {},
   "cell_type": "markdown",
   "metadata": {},
   "source": [
    "|ATLAS - Time Card Automation Program|\n",
    "|-|\n",
    "|Using GPT 3.5 Turbo|"
   ]
  },
  {
   "cell_type": "code",
   "execution_count": 8,
   "metadata": {},
   "outputs": [],
   "source": [
    "# libs\n",
    "import openai\n",
    "import requests\n",
    "import json\n",
    "\n",
    "# keys\n",
    "from config import OPENAI_API_TOKEN"
   ]
  },
  {
   "cell_type": "code",
   "execution_count": 9,
   "metadata": {},
   "outputs": [
    {
     "name": "stdout",
     "output_type": "stream",
     "text": [
      "\n",
      "Daily Objectives:\n",
      "\n",
      "1. -Complete workshop questionnaires for 80% of workshops.\n",
      "2. -Modify file structure for UKG Radius project.\n",
      "3. -Complete 5 labs in the ITSM CIS training.\n",
      "4. -Review enablement material for integrations.\n",
      "5. -Start on the integrations workshop questionnaire and workshop client presentation materials.\n"
     ]
    },
    {
     "ename": "KeyError",
     "evalue": "'choices'",
     "output_type": "error",
     "traceback": [
      "\u001b[0;31m---------------------------------------------------------------------------\u001b[0m",
      "\u001b[0;31mKeyError\u001b[0m                                  Traceback (most recent call last)",
      "Cell \u001b[0;32mIn[9], line 79\u001b[0m\n\u001b[1;32m     76\u001b[0m \u001b[39mprint\u001b[39m(\u001b[39m\"\u001b[39m\u001b[39m\\n\u001b[39;00m\u001b[39mDaily Objectives:\u001b[39m\u001b[39m\\n\u001b[39;00m\u001b[39m\"\u001b[39m)\n\u001b[1;32m     77\u001b[0m \u001b[39mprint\u001b[39m(daily_objectives)\n\u001b[0;32m---> 79\u001b[0m accomplishments \u001b[39m=\u001b[39m generate_accomplishments(upstream_description, daily_objectives)\n\u001b[1;32m     80\u001b[0m \u001b[39mprint\u001b[39m(\u001b[39m\"\u001b[39m\u001b[39m\\n\u001b[39;00m\u001b[39mDaily Accomplishments:\u001b[39m\u001b[39m\\n\u001b[39;00m\u001b[39m\"\u001b[39m)\n\u001b[1;32m     81\u001b[0m \u001b[39mprint\u001b[39m(accomplishments)\n",
      "Cell \u001b[0;32mIn[9], line 35\u001b[0m, in \u001b[0;36mgenerate_accomplishments\u001b[0;34m(upstream_description, daily_objectives)\u001b[0m\n\u001b[1;32m     29\u001b[0m response \u001b[39m=\u001b[39m requests\u001b[39m.\u001b[39mpost(\n\u001b[1;32m     30\u001b[0m     \u001b[39m\"\u001b[39m\u001b[39mhttps://api.openai.com/v1/chat/completions\u001b[39m\u001b[39m\"\u001b[39m,\n\u001b[1;32m     31\u001b[0m     headers\u001b[39m=\u001b[39mheaders,\n\u001b[1;32m     32\u001b[0m     data\u001b[39m=\u001b[39mjson\u001b[39m.\u001b[39mdumps(data)\n\u001b[1;32m     33\u001b[0m )\n\u001b[1;32m     34\u001b[0m response_dict \u001b[39m=\u001b[39m response\u001b[39m.\u001b[39mjson()\n\u001b[0;32m---> 35\u001b[0m \u001b[39mreturn\u001b[39;00m response_dict[\u001b[39m'\u001b[39;49m\u001b[39mchoices\u001b[39;49m\u001b[39m'\u001b[39;49m][\u001b[39m0\u001b[39m][\u001b[39m'\u001b[39m\u001b[39mmessages\u001b[39m\u001b[39m'\u001b[39m][\u001b[39m-\u001b[39m\u001b[39m1\u001b[39m][\u001b[39m'\u001b[39m\u001b[39mcontent\u001b[39m\u001b[39m'\u001b[39m]\u001b[39m.\u001b[39mstrip()\n",
      "\u001b[0;31mKeyError\u001b[0m: 'choices'"
     ]
    }
   ],
   "source": [
    "# KEY\n",
    "openai.api_key = OPENAI_API_TOKEN\n",
    "headers = {\n",
    "    \"Content-Type\": \"application/json\",\n",
    "    \"Authorization\": f\"Bearer {openai.api_key}\"\n",
    "}\n",
    "\n",
    "def fix_grammar_spelling(text):\n",
    "    prompt = f\"Please correct any grammar and spelling mistakes in the following text:\\n\\n{text}\\n\\nCorrected Text:\"\n",
    "    response = openai.Completion.create(\n",
    "        engine=\"text-davinci-002\",\n",
    "        prompt=prompt,\n",
    "        max_tokens=150,\n",
    "        n=1,\n",
    "        stop=None,\n",
    "        temperature=0.5,\n",
    "    )\n",
    "    return response.choices[0].text.strip()\n",
    "\n",
    "def generate_accomplishments(upstream_description, daily_objectives):\n",
    "    prompt = f\"{upstream_description}\\n\\nDaily Objectives:\\n\\n{daily_objectives}\\n\\nDaily Accomplishments:\"\n",
    "    data = {\n",
    "        \"engine\": \"gpt-3.5-turbo\",\n",
    "        \"messages\": [{\"role\": \"system\", \"content\": prompt}],\n",
    "        \"max_tokens\": 150,\n",
    "        \"temperature\": 0.7,\n",
    "    }\n",
    "\n",
    "    response = requests.post(\n",
    "        \"https://api.openai.com/v1/chat/completions\",\n",
    "        headers=headers,\n",
    "        data=json.dumps(data)\n",
    "    )\n",
    "    response_dict = response.json()\n",
    "    return response_dict['choices'][0]['messages'][-1]['content'].strip()\n",
    "\n",
    "\n",
    "upstream_description = '''Take a list of tasks as Daily Objectives. Pretend they are all completed. \n",
    "Then, write a list of Daily Accomplishments describing the completed tasks. \n",
    "Make sure the sentences are clear and have correct grammar. \n",
    "Feel free to be creative and descriptive with the Daily Accomplishments.\n",
    "Perform sentence completion and add to descriptive text for Daily Accomplishments.\n",
    "The output should be like below.\n",
    "\n",
    "Daily Objectives:\n",
    "-bullet 1\n",
    "-bullet 2\n",
    "-bullet 3\n",
    "-bullet 4\n",
    "-bullet 5\n",
    "\n",
    "Daily Accomplishments:\n",
    "-bullet 1\n",
    "sub bullet 1\n",
    "-bullet 2\n",
    "sub bullet 2\n",
    "-bullet 3\n",
    "sub bullet 3\n",
    "-bullet 4\n",
    "sub bullet 4\n",
    "-bullet 5\n",
    "sub bullet 5\n",
    "\n",
    "'''\n",
    "\n",
    "# Collect user input for the 5 daily objectives\n",
    "user_objectives = []\n",
    "for i in range(1, 6):\n",
    "    user_input = input(f\"Enter daily objective {i}: \")\n",
    "    corrected_input = fix_grammar_spelling(user_input)\n",
    "    user_objectives.append(f\"{i}. {corrected_input}\")\n",
    "\n",
    "daily_objectives = \"\\n\".join(user_objectives)\n",
    "print(\"\\nDaily Objectives:\\n\")\n",
    "print(daily_objectives)\n",
    "\n",
    "accomplishments = generate_accomplishments(upstream_description, daily_objectives)\n",
    "print(\"\\nDaily Accomplishments:\\n\")\n",
    "print(accomplishments)\n"
   ]
  },
  {
   "cell_type": "code",
   "execution_count": null,
   "metadata": {},
   "outputs": [],
   "source": []
  }
 ],
 "metadata": {
  "kernelspec": {
   "display_name": "erlangs_venv",
   "language": "python",
   "name": "python3"
  },
  "language_info": {
   "codemirror_mode": {
    "name": "ipython",
    "version": 3
   },
   "file_extension": ".py",
   "mimetype": "text/x-python",
   "name": "python",
   "nbconvert_exporter": "python",
   "pygments_lexer": "ipython3",
   "version": "3.11.1"
  },
  "orig_nbformat": 4
 },
 "nbformat": 4,
 "nbformat_minor": 2
}
