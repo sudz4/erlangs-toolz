{
 "cells": [
  {
   "attachments": {},
   "cell_type": "markdown",
   "metadata": {},
   "source": [
    "|ATLAS - Time Card Automation Program|\n",
    "|-|"
   ]
  },
  {
   "cell_type": "code",
   "execution_count": 6,
   "metadata": {},
   "outputs": [],
   "source": [
    "#libs\n",
    "import openai\n",
    "\n",
    "#keys\n",
    "from config import OPENAI_API_TOKEN"
   ]
  },
  {
   "cell_type": "code",
   "execution_count": 7,
   "metadata": {},
   "outputs": [
    {
     "name": "stdout",
     "output_type": "stream",
     "text": [
      "\n",
      "Daily Objectives:\n",
      "\n",
      "1. Modify file structure for UKG Radius project.\n",
      "2. Complete workshop questionnaires for 80% of workshops.\n",
      "3. Create presentation templates for ITSM workshops.\n",
      "4. Complete 5 labs in the ITSM CIS training.\n",
      "5. Review enablement material for integrations.\n",
      "\n",
      "Daily Accomplishments:\n",
      "\n",
      "1. Modified file structure for UKG Radius project.\n",
      "2. Completed workshop questionnaires for 80% of workshops.\n",
      "3. Created presentation templates for ITSM workshops.\n",
      "4. Completed 5 labs in the ITSM CIS training.\n",
      "5. Reviewed enablement material for integrations.\n"
     ]
    }
   ],
   "source": [
    "#api key\n",
    "openai.api_key = OPENAI_API_TOKEN\n",
    "\n",
    "def fix_grammar_spelling(text):\n",
    "    prompt = f\"Please correct any grammar and spelling mistakes in the following text:\\n\\n{text}\\n\\nCorrected Text:\"\n",
    "    response = openai.Completion.create(\n",
    "        engine=\"text-davinci-002\",\n",
    "        prompt=prompt,\n",
    "        max_tokens=150,\n",
    "        n=1,\n",
    "        stop=None,\n",
    "        temperature=0.5, # granular temperature control\n",
    "    )\n",
    "    return response.choices[0].text.strip()\n",
    "\n",
    "def generate_accomplishments(upstream_description, daily_objectives):\n",
    "    prompt = f\"{upstream_description}\\n\\nDaily Objectives:\\n\\n{daily_objectives}\\n\\nDaily Accomplishments:\"\n",
    "    response = openai.Completion.create(\n",
    "        engine=\"text-davinci-002\",\n",
    "        prompt=prompt,\n",
    "        max_tokens=150,\n",
    "        n=1,\n",
    "        stop=None,\n",
    "        temperature=0.7, # granular temperature control\n",
    "    )\n",
    "    return response.choices[0].text.strip()\n",
    "\n",
    "upstream_description = '''Take a list of tasks as Daily Objectives. Pretend they are all completed. \n",
    "Then, write a list of Daily Accomplishments describing the completed tasks. \n",
    "Make sure the sentences are clear and have correct grammar. \n",
    "Feel free to be creative and desriptive with the Daily Accomplishments.\n",
    "Perform sentence completion and add to descriptive text for Daily Accomplishments.\n",
    "The output should be like below.\n",
    "\n",
    "Daily Objectives:\n",
    "-bullet 1\n",
    "-bullet 2\n",
    "-bullet 3\n",
    "-bullet 4\n",
    "-bullet 5\n",
    "\n",
    "Daily Accomplishments:\n",
    "-bullet 1\n",
    "sub bullet 1\n",
    "-bullet 2\n",
    "sub bullet 2\n",
    "-bullet 3\n",
    "sub bullet 3\n",
    "-bullet 4\n",
    "sub bullet 4\n",
    "-bullet 5\n",
    "sub bullet 5\n",
    "\n",
    "'''\n",
    "\n",
    "# Collect user input for the 5 daily objectives\n",
    "user_objectives = []\n",
    "for i in range(1, 6):\n",
    "    user_input = input(f\"Enter daily objective {i}: \")\n",
    "    corrected_input = fix_grammar_spelling(user_input)\n",
    "    user_objectives.append(f\"{i}. {corrected_input}\")\n",
    "\n",
    "daily_objectives = \"\\n\".join(user_objectives)\n",
    "print(\"\\nDaily Objectives:\\n\")\n",
    "print(daily_objectives)\n",
    "\n",
    "accomplishments = generate_accomplishments(upstream_description, daily_objectives)\n",
    "print(\"\\nDaily Accomplishments:\\n\")\n",
    "print(accomplishments)"
   ]
  },
  {
   "cell_type": "code",
   "execution_count": null,
   "metadata": {},
   "outputs": [],
   "source": []
  }
 ],
 "metadata": {
  "kernelspec": {
   "display_name": "erlangs_venv",
   "language": "python",
   "name": "python3"
  },
  "language_info": {
   "codemirror_mode": {
    "name": "ipython",
    "version": 3
   },
   "file_extension": ".py",
   "mimetype": "text/x-python",
   "name": "python",
   "nbconvert_exporter": "python",
   "pygments_lexer": "ipython3",
   "version": "3.11.1"
  },
  "orig_nbformat": 4
 },
 "nbformat": 4,
 "nbformat_minor": 2
}
